{
  "nbformat": 4,
  "nbformat_minor": 0,
  "metadata": {
    "colab": {
      "name": "assignment-3.ipynb",
      "provenance": [],
      "collapsed_sections": [],
      "authorship_tag": "ABX9TyPk8gedMZq1i1iG7+Iyxyg5",
      "include_colab_link": true
    },
    "kernelspec": {
      "name": "python3",
      "display_name": "Python 3"
    }
  },
  "cells": [
    {
      "cell_type": "markdown",
      "metadata": {
        "id": "view-in-github",
        "colab_type": "text"
      },
      "source": [
        "<a href=\"https://colab.research.google.com/github/nitesh-sinha/machine-learning-jupyter-notebooks/blob/master/assignment_3.ipynb\" target=\"_parent\"><img src=\"https://colab.research.google.com/assets/colab-badge.svg\" alt=\"Open In Colab\"/></a>"
      ]
    },
    {
      "cell_type": "code",
      "metadata": {
        "id": "eao7yCbpWIw_",
        "colab_type": "code",
        "colab": {
          "base_uri": "https://localhost:8080/",
          "height": 68
        },
        "outputId": "f99e660f-40f6-47f5-f44d-047c4d487876"
      },
      "source": [
        "\"\"\"\n",
        "Write a Python Program to implement your own myreduce() function which works exactly like Python's built-in function reduce()\n",
        "\"\"\"\n",
        "def myreduce(func, iterable):\n",
        "    # Covert set to list to make it subscriptable\n",
        "    if type(iterable) == set:\n",
        "        iterable = list(iterable)\n",
        "\n",
        "    if len(iterable) < 2:\n",
        "        print(\"hi\")\n",
        "        return iterable[0]\n",
        "    else:\n",
        "        res = 0\n",
        "        while len(iterable) > 0:\n",
        "            res = func(res, iterable[0])\n",
        "            iterable = iterable[1:len(iterable)]\n",
        "        return res\n",
        "        \n",
        "\n",
        "def summation(a, b):\n",
        "    return a+b\n",
        "\n",
        "\n",
        "lst = [1,2,3,4,5,6,7]\n",
        "sett = {5,6,7}\n",
        "tup = (4,4,4)\n",
        "# myreduce() works for list, set and tuple\n",
        "print(myreduce(summation, lst))\n",
        "print(myreduce(summation, sett))\n",
        "print(myreduce(summation, tup))"
      ],
      "execution_count": 1,
      "outputs": [
        {
          "output_type": "stream",
          "text": [
            "28\n",
            "18\n",
            "12\n"
          ],
          "name": "stdout"
        }
      ]
    },
    {
      "cell_type": "code",
      "metadata": {
        "id": "P1B5_B95Wu07",
        "colab_type": "code",
        "colab": {
          "base_uri": "https://localhost:8080/",
          "height": 68
        },
        "outputId": "c3a24061-627d-4b1e-820e-9e2788b8914d"
      },
      "source": [
        "\"\"\"\n",
        "Write a Python program to implement your own myfilter() function which works exactly like Python's built-in function filter()\n",
        "\"\"\"\n",
        "def myfilter(func, iterable):\n",
        "    lst = [] # Create a resultant list type container\n",
        "    for elem in iterable:\n",
        "        if func(elem) == True:\n",
        "            lst.append(elem)\n",
        "    # Typecast result list container to appropriate type based on input\n",
        "    if type(iterable) == set:\n",
        "        return set(lst)\n",
        "    elif type(iterable) == tuple:\n",
        "        return tuple(lst)\n",
        "    else:\n",
        "        return lst\n",
        "    \n",
        "    \n",
        "def isOdd(n):\n",
        "    if n % 2 != 0:\n",
        "        return True\n",
        "    \n",
        "\n",
        "lst = [1,2,3,4,5,6]\n",
        "sett = {5,6,7,8,9,9,9,9}\n",
        "tup = (3,4,5,6,7,8,8,9,9,0)\n",
        "print(myfilter(isOdd, lst))\n",
        "print(myfilter(isOdd, sett))\n",
        "print(myfilter(isOdd, tup))"
      ],
      "execution_count": 2,
      "outputs": [
        {
          "output_type": "stream",
          "text": [
            "[1, 3, 5]\n",
            "{9, 5, 7}\n",
            "(3, 5, 7, 9, 9)\n"
          ],
          "name": "stdout"
        }
      ]
    },
    {
      "cell_type": "code",
      "metadata": {
        "id": "rc37I8urXB41",
        "colab_type": "code",
        "colab": {
          "base_uri": "https://localhost:8080/",
          "height": 119
        },
        "outputId": "7cb5f18a-b2d9-489e-c861-984e1e12f3a4"
      },
      "source": [
        "\"\"\"\n",
        "Implement List comprehensions to produce the following lists. Write List comprehensions to produce the following Lists\n",
        "['A', 'C', 'A', 'D', 'G', 'I', ’L’, ‘ D’]\n",
        "['x', 'xx', 'xxx', 'xxxx', 'y', 'yy', 'yyy', 'yyyy', 'z', 'zz', 'zzz', 'zzzz']\n",
        "['x', 'y', 'z', 'xx', 'yy', 'zz', 'xxx', 'yyy', 'zzz', 'xxxx', 'yyyy', 'zzzz'] \n",
        "[[2], [3], [4], [3], [4], [5], [4], [5], [6]] \n",
        "[[2, 3, 4, 5], [3, 4, 5, 6], [4, 5, 6, 7], [5, 6, 7, 8]]\n",
        "[(1, 1), (2, 1), (3, 1), (1, 2), (2, 2), (3, 2), (1, 3), (2, 3), (3, 3)]\n",
        "\"\"\"\n",
        "res1 = [i for i in \"ACADGILD\"]\n",
        "print(res1)\n",
        "\n",
        "res2 = [i*j for i in \"xyz\" for j in range(1,5)]\n",
        "print(res2)\n",
        "\n",
        "res3 = [j*i for i in range(1,5) for j in \"xyz\"]\n",
        "print(res3)\n",
        "\n",
        "res4 = [[i+j] for i in range(3) for j in range(2,5)]\n",
        "print(res4)                                    \n",
        "\n",
        "res5 = [[i for i in range(j, j+4)] for j in range(2,6)] \n",
        "print(res5)\n",
        "\n",
        "res6 = [(j,i) for i in range(1,4) for j in range(1,4)]\n",
        "print(res6)"
      ],
      "execution_count": 4,
      "outputs": [
        {
          "output_type": "stream",
          "text": [
            "['A', 'C', 'A', 'D', 'G', 'I', 'L', 'D']\n",
            "['x', 'xx', 'xxx', 'xxxx', 'y', 'yy', 'yyy', 'yyyy', 'z', 'zz', 'zzz', 'zzzz']\n",
            "['x', 'y', 'z', 'xx', 'yy', 'zz', 'xxx', 'yyy', 'zzz', 'xxxx', 'yyyy', 'zzzz']\n",
            "[[2], [3], [4], [3], [4], [5], [4], [5], [6]]\n",
            "[[2, 3, 4, 5], [3, 4, 5, 6], [4, 5, 6, 7], [5, 6, 7, 8]]\n",
            "[(1, 1), (2, 1), (3, 1), (1, 2), (2, 2), (3, 2), (1, 3), (2, 3), (3, 3)]\n"
          ],
          "name": "stdout"
        }
      ]
    },
    {
      "cell_type": "code",
      "metadata": {
        "id": "1UU-us38WKo0",
        "colab_type": "code",
        "colab": {}
      },
      "source": [
        ""
      ],
      "execution_count": 12,
      "outputs": []
    }
  ]
}