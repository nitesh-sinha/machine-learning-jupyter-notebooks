{
 "cells": [
  {
   "cell_type": "code",
   "execution_count": 8,
   "metadata": {},
   "outputs": [
    {
     "data": {
      "text/plain": [
       "False"
      ]
     },
     "execution_count": 8,
     "metadata": {},
     "output_type": "execute_result"
    }
   ],
   "source": [
    "all([1,2,3,4,0]) # Returns true if all items in iterable are True"
   ]
  },
  {
   "cell_type": "code",
   "execution_count": 32,
   "metadata": {},
   "outputs": [
    {
     "data": {
      "text/plain": [
       "True"
      ]
     },
     "execution_count": 32,
     "metadata": {},
     "output_type": "execute_result"
    }
   ],
   "source": [
    "all({}) # Empty iterable is True by default"
   ]
  },
  {
   "cell_type": "code",
   "execution_count": 29,
   "metadata": {},
   "outputs": [
    {
     "data": {
      "text/plain": [
       "False"
      ]
     },
     "execution_count": 29,
     "metadata": {},
     "output_type": "execute_result"
    }
   ],
   "source": [
    "any((0,0))"
   ]
  },
  {
   "cell_type": "code",
   "execution_count": 40,
   "metadata": {},
   "outputs": [
    {
     "data": {
      "text/plain": [
       "True"
      ]
     },
     "execution_count": 40,
     "metadata": {},
     "output_type": "execute_result"
    }
   ],
   "source": [
    "lst = [{},{},{}] # Check if all dicts are empty in a list\n",
    "all([not i for i in lst])"
   ]
  },
  {
   "cell_type": "code",
   "execution_count": 51,
   "metadata": {},
   "outputs": [
    {
     "name": "stdout",
     "output_type": "stream",
     "text": [
      "[[23, 800, 912, 3456], [100, 145], [100, 145], [100, 165], [123, 123], [200], [234, 567, 560]]\n",
      "------------------\n"
     ]
    },
    {
     "data": {
      "text/plain": [
       "[[23, 800, 912, 3456],\n",
       " [100, 145],\n",
       " [100, 165],\n",
       " [123, 123],\n",
       " [200],\n",
       " [234, 567, 560]]"
      ]
     },
     "execution_count": 51,
     "metadata": {},
     "output_type": "execute_result"
    }
   ],
   "source": [
    "# Remove duplicates from a list of list\n",
    "import itertools\n",
    "nums = [[100,145], [200], [123,123], [234,567,560], [23,800,912,3456],[100,145],[100,165]]\n",
    "nums.sort()\n",
    "print(nums)\n",
    "print(\"------------------\")\n",
    "[i for i,j in itertools.groupby(nums)] "
   ]
  },
  {
   "cell_type": "code",
   "execution_count": 53,
   "metadata": {},
   "outputs": [
    {
     "data": {
      "text/plain": [
       "[5, 6, 7, 1, 2, 3]"
      ]
     },
     "execution_count": 53,
     "metadata": {},
     "output_type": "execute_result"
    }
   ],
   "source": [
    "l1 = [1,2,3]\n",
    "l2 = [5,6,7]\n",
    "l1[:0] = l2 # Prepending a list with another one\n",
    "l1"
   ]
  },
  {
   "cell_type": "code",
   "execution_count": 58,
   "metadata": {},
   "outputs": [
    {
     "data": {
      "text/plain": [
       "[23, 800, 912, 3456, 7000]"
      ]
     },
     "execution_count": 58,
     "metadata": {},
     "output_type": "execute_result"
    }
   ],
   "source": [
    "nums = [[100,145], [200], [123,123], [234,567,560], [23,800,912,3456,7000],[100,145],[100,165]]\n",
    "#max([sum(i) for i in nums]) # Finds the sum of elements in the list within nums whose sum is highest\n",
    "max(nums, key=sum) # Find list in a list of lists whose sum of elemets is highest"
   ]
  },
  {
   "cell_type": "code",
   "execution_count": 61,
   "metadata": {},
   "outputs": [
    {
     "data": {
      "text/plain": [
       "[80, 75]"
      ]
     },
     "execution_count": 61,
     "metadata": {},
     "output_type": "execute_result"
    }
   ],
   "source": [
    "scores = {\"maths\":80, \"history\":75}\n",
    "list(scores.values())"
   ]
  },
  {
   "cell_type": "code",
   "execution_count": 63,
   "metadata": {},
   "outputs": [
    {
     "name": "stdout",
     "output_type": "stream",
     "text": [
      "1,5\n",
      "2,6\n",
      "3,7\n",
      "4,8\n"
     ]
    }
   ],
   "source": [
    "# Iterate over two lists elements simultaneously\n",
    "l1 = [1,2,3,4]\n",
    "l2 = [5,6,7,8]\n",
    "for i,j in zip(l1, l2):\n",
    "    print(i,j,sep=\",\")"
   ]
  },
  {
   "cell_type": "code",
   "execution_count": 67,
   "metadata": {},
   "outputs": [
    {
     "data": {
      "text/plain": [
       "['foo100andbar2',\n",
       " 'foo100andbar3',\n",
       " 'foo100andbar4',\n",
       " 'foo100andbar5',\n",
       " 'foo200andbar2',\n",
       " 'foo200andbar3',\n",
       " 'foo200andbar4',\n",
       " 'foo200andbar5',\n",
       " 'foo123andbar2',\n",
       " 'foo123andbar3',\n",
       " 'foo123andbar4',\n",
       " 'foo123andbar5',\n",
       " 'foo124andbar2',\n",
       " 'foo124andbar3',\n",
       " 'foo124andbar4',\n",
       " 'foo124andbar5',\n",
       " 'foo456andbar2',\n",
       " 'foo456andbar3',\n",
       " 'foo456andbar4',\n",
       " 'foo456andbar5']"
      ]
     },
     "execution_count": 67,
     "metadata": {},
     "output_type": "execute_result"
    }
   ],
   "source": [
    "# Insert strings between a list of numbers\n",
    "lst1 = [100,200,123,124,456]\n",
    "lst2 = [2,3,4,5]\n",
    "['foo{0}andbar{1}'.format(i,j) for i in lst1 for j in lst2]"
   ]
  },
  {
   "cell_type": "code",
   "execution_count": 70,
   "metadata": {},
   "outputs": [
    {
     "data": {
      "text/plain": [
       "[(2, 3, 4, 5),\n",
       " (2, 3, 5, 4),\n",
       " (2, 4, 3, 5),\n",
       " (2, 4, 5, 3),\n",
       " (2, 5, 3, 4),\n",
       " (2, 5, 4, 3),\n",
       " (3, 2, 4, 5),\n",
       " (3, 2, 5, 4),\n",
       " (3, 4, 2, 5),\n",
       " (3, 4, 5, 2),\n",
       " (3, 5, 2, 4),\n",
       " (3, 5, 4, 2),\n",
       " (4, 2, 3, 5),\n",
       " (4, 2, 5, 3),\n",
       " (4, 3, 2, 5),\n",
       " (4, 3, 5, 2),\n",
       " (4, 5, 2, 3),\n",
       " (4, 5, 3, 2),\n",
       " (5, 2, 3, 4),\n",
       " (5, 2, 4, 3),\n",
       " (5, 3, 2, 4),\n",
       " (5, 3, 4, 2),\n",
       " (5, 4, 2, 3),\n",
       " (5, 4, 3, 2)]"
      ]
     },
     "execution_count": 70,
     "metadata": {},
     "output_type": "execute_result"
    }
   ],
   "source": [
    "# COmpute all permutations of a list of elements\n",
    "import itertools\n",
    "lst = [2,3,4,5]\n",
    "list(itertools.permutations(lst))"
   ]
  },
  {
   "cell_type": "code",
   "execution_count": null,
   "metadata": {},
   "outputs": [],
   "source": []
  }
 ],
 "metadata": {
  "kernelspec": {
   "display_name": "Python 3",
   "language": "python",
   "name": "python3"
  },
  "language_info": {
   "codemirror_mode": {
    "name": "ipython",
    "version": 3
   },
   "file_extension": ".py",
   "mimetype": "text/x-python",
   "name": "python",
   "nbconvert_exporter": "python",
   "pygments_lexer": "ipython3",
   "version": "3.7.6"
  }
 },
 "nbformat": 4,
 "nbformat_minor": 4
}
