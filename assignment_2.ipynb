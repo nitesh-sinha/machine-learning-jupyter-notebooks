{
  "nbformat": 4,
  "nbformat_minor": 0,
  "metadata": {
    "colab": {
      "name": "assignment-2.ipynb",
      "provenance": [],
      "authorship_tag": "ABX9TyOmEBgDSzz/CB7nAx7gdI23",
      "include_colab_link": true
    },
    "kernelspec": {
      "name": "python3",
      "display_name": "Python 3"
    }
  },
  "cells": [
    {
      "cell_type": "markdown",
      "metadata": {
        "id": "view-in-github",
        "colab_type": "text"
      },
      "source": [
        "<a href=\"https://colab.research.google.com/github/nitesh-sinha/machine-learning-jupyter-notebooks/blob/master/assignment_2.ipynb\" target=\"_parent\"><img src=\"https://colab.research.google.com/assets/colab-badge.svg\" alt=\"Open In Colab\"/></a>"
      ]
    },
    {
      "cell_type": "code",
      "metadata": {
        "id": "6Ey869XBMPW3",
        "colab_type": "code",
        "colab": {
          "base_uri": "https://localhost:8080/",
          "height": 170
        },
        "outputId": "f6de8ecd-866e-4ae7-9f41-554cfb5f4fff"
      },
      "source": [
        "\"\"\"\n",
        " Create the below pattern using nested for loop in Python.\n",
        "*\n",
        "**\n",
        "*** \n",
        "**** \n",
        "***** \n",
        "**** \n",
        "*** \n",
        "**\n",
        "*\n",
        "\"\"\"\n",
        "# Print top half\n",
        "for i in range(1,6):\n",
        "  for j in range(0,i):\n",
        "    print('*', end=\"\")\n",
        "  print()\n",
        "# Print bottom half\n",
        "for i in range(4,0,-1):\n",
        "  for j in range(0, i):\n",
        "    print('*', end=\"\")\n",
        "  print()\n"
      ],
      "execution_count": 8,
      "outputs": [
        {
          "output_type": "stream",
          "text": [
            "*\n",
            "**\n",
            "***\n",
            "****\n",
            "*****\n",
            "****\n",
            "***\n",
            "**\n",
            "*\n"
          ],
          "name": "stdout"
        }
      ]
    },
    {
      "cell_type": "code",
      "metadata": {
        "id": "pF51k0ZqO1l-",
        "colab_type": "code",
        "colab": {
          "base_uri": "https://localhost:8080/",
          "height": 51
        },
        "outputId": "d5082411-a9de-468b-f83a-0be34f861220"
      },
      "source": [
        "\"\"\"\n",
        "Write a Python program to reverse a word after accepting the input from the user.\n",
        "Sample Output:\n",
        "Input word: ineuron Output: norueni\n",
        "\"\"\"\n",
        "word = input(\"Enter a word: \")\n",
        "res = \"\"\n",
        "for i in range(len(word)-1, -1, -1):\n",
        "  res = res + word[i]\n",
        "print(res)\n"
      ],
      "execution_count": 11,
      "outputs": [
        {
          "output_type": "stream",
          "text": [
            "Enter a word: ineuron \n",
            " norueni\n"
          ],
          "name": "stdout"
        }
      ]
    }
  ]
}